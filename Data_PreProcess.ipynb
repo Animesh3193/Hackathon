{
 "cells": [
  {
   "cell_type": "code",
   "execution_count": 16,
   "metadata": {},
   "outputs": [],
   "source": [
    "import pandas as pd\n",
    "import numpy as np\n",
    "import matplotlib.pyplot as plt\n",
    "%matplotlib inline"
   ]
  },
  {
   "cell_type": "code",
   "execution_count": 2,
   "metadata": {},
   "outputs": [],
   "source": [
    "Train_data=pd.read_csv('Data/train.csv')\n",
    "Test_data=pd.read_csv('Data/test.csv')"
   ]
  },
  {
   "cell_type": "code",
   "execution_count": 3,
   "metadata": {},
   "outputs": [],
   "source": [
    "Train=Train_data.copy()\n",
    "Test=Test_data.copy()"
   ]
  },
  {
   "cell_type": "code",
   "execution_count": 4,
   "metadata": {},
   "outputs": [
    {
     "name": "stdout",
     "output_type": "stream",
     "text": [
      "Train Data Shape : (233154, 41) and That of Test Data Shape: (112392, 40)\n"
     ]
    }
   ],
   "source": [
    "print('Train Data Shape : {} and That of Test Data Shape: {}'.format(Train.shape, Test.shape))"
   ]
  },
  {
   "cell_type": "code",
   "execution_count": 5,
   "metadata": {},
   "outputs": [],
   "source": [
    "Train['Date.of.Birth']= pd.to_datetime(Train['Date.of.Birth'],format='%d-%m-%y')\n",
    "Train['Date.of.Birth'] = Train['Date.of.Birth'].mask(Train['Date.of.Birth'].dt.year > 2018, Train['Date.of.Birth'] - pd.offsets.DateOffset(years=100))\n",
    "Test['Date.of.Birth']= pd.to_datetime(Test['Date.of.Birth'],format='%d-%m-%y')\n",
    "Test['Date.of.Birth'] = Test['Date.of.Birth'].mask(Test['Date.of.Birth'].dt.year > 2018, Test['Date.of.Birth'] - pd.offsets.DateOffset(years=100))"
   ]
  },
  {
   "cell_type": "code",
   "execution_count": 6,
   "metadata": {},
   "outputs": [],
   "source": [
    "Train['DisbursalDate'] = pd.to_datetime(Train['DisbursalDate'], format='%d-%m-%y')\n",
    "Test['DisbursalDate'] = pd.to_datetime(Test['DisbursalDate'], format='%d-%m-%y')"
   ]
  },
  {
   "cell_type": "code",
   "execution_count": 7,
   "metadata": {},
   "outputs": [],
   "source": [
    "tr_ag=Train['DisbursalDate'] -Train['Date.of.Birth']\n",
    "Train['Age']=tr_ag//np.timedelta64(1,'Y')\n",
    "te_ag=Test['DisbursalDate'] - Test['Date.of.Birth']\n",
    "Test['Age']=te_ag//np.timedelta64(1,'Y')"
   ]
  },
  {
   "cell_type": "code",
   "execution_count": 8,
   "metadata": {},
   "outputs": [],
   "source": [
    "drop_cols=['Date.of.Birth', 'DisbursalDate', 'UniqueID','MobileNo_Avl_Flag']"
   ]
  },
  {
   "cell_type": "code",
   "execution_count": 9,
   "metadata": {},
   "outputs": [],
   "source": [
    "Train.drop(drop_cols, axis=1, inplace=True)\n",
    "Test.drop(drop_cols, axis=1, inplace=True)"
   ]
  },
  {
   "cell_type": "code",
   "execution_count": 10,
   "metadata": {},
   "outputs": [],
   "source": [
    "def conv_month(Yr_Mnth):\n",
    "  import re\n",
    "  lst=re.findall('\\d', Yr_Mnth)\n",
    "  return 12*int(lst[0]) + int(lst[1])"
   ]
  },
  {
   "cell_type": "code",
   "execution_count": 11,
   "metadata": {},
   "outputs": [],
   "source": [
    "Train['AVERAGE.ACCT.AGE']= Train['AVERAGE.ACCT.AGE'].apply(conv_month)\n",
    "Train['CREDIT.HISTORY.LENGTH']= Train['CREDIT.HISTORY.LENGTH'].apply(conv_month)\n",
    "Test['AVERAGE.ACCT.AGE']= Test['AVERAGE.ACCT.AGE'].apply(conv_month)\n",
    "Test['CREDIT.HISTORY.LENGTH']= Test['CREDIT.HISTORY.LENGTH'].apply(conv_month)"
   ]
  },
  {
   "cell_type": "code",
   "execution_count": 12,
   "metadata": {},
   "outputs": [],
   "source": [
    "Train['Employment.Type'].fillna('No_Emp', inplace=True)\n",
    "Test['Employment.Type'].fillna('No_Emp', inplace=True)"
   ]
  },
  {
   "cell_type": "code",
   "execution_count": 13,
   "metadata": {},
   "outputs": [],
   "source": [
    "Train.drop(index=210252, inplace=True)"
   ]
  },
  {
   "cell_type": "code",
   "execution_count": 18,
   "metadata": {
    "scrolled": true
   },
   "outputs": [
    {
     "data": {
      "text/plain": [
       "disbursed_amount                         int64\n",
       "asset_cost                               int64\n",
       "ltv                                    float64\n",
       "branch_id                                int64\n",
       "supplier_id                              int64\n",
       "manufacturer_id                          int64\n",
       "Current_pincode_ID                       int64\n",
       "Employment.Type                         object\n",
       "State_ID                                 int64\n",
       "Employee_code_ID                         int64\n",
       "Aadhar_flag                              int64\n",
       "PAN_flag                                 int64\n",
       "VoterID_flag                             int64\n",
       "Driving_flag                             int64\n",
       "Passport_flag                            int64\n",
       "PERFORM_CNS.SCORE                        int64\n",
       "PERFORM_CNS.SCORE.DESCRIPTION           object\n",
       "PRI.NO.OF.ACCTS                          int64\n",
       "PRI.ACTIVE.ACCTS                         int64\n",
       "PRI.OVERDUE.ACCTS                        int64\n",
       "PRI.CURRENT.BALANCE                      int64\n",
       "PRI.SANCTIONED.AMOUNT                    int64\n",
       "PRI.DISBURSED.AMOUNT                     int64\n",
       "SEC.NO.OF.ACCTS                          int64\n",
       "SEC.ACTIVE.ACCTS                         int64\n",
       "SEC.OVERDUE.ACCTS                        int64\n",
       "SEC.CURRENT.BALANCE                      int64\n",
       "SEC.SANCTIONED.AMOUNT                    int64\n",
       "SEC.DISBURSED.AMOUNT                     int64\n",
       "PRIMARY.INSTAL.AMT                       int64\n",
       "SEC.INSTAL.AMT                           int64\n",
       "NEW.ACCTS.IN.LAST.SIX.MONTHS             int64\n",
       "DELINQUENT.ACCTS.IN.LAST.SIX.MONTHS      int64\n",
       "AVERAGE.ACCT.AGE                         int64\n",
       "CREDIT.HISTORY.LENGTH                    int64\n",
       "NO.OF_INQUIRIES                          int64\n",
       "loan_default                             int64\n",
       "Age                                      int64\n",
       "dtype: object"
      ]
     },
     "execution_count": 18,
     "metadata": {},
     "output_type": "execute_result"
    }
   ],
   "source": [
    "Train.dtypes"
   ]
  },
  {
   "cell_type": "code",
   "execution_count": 17,
   "metadata": {},
   "outputs": [],
   "source": [
    "y_Label=Train['loan_default']"
   ]
  },
  {
   "cell_type": "code",
   "execution_count": 19,
   "metadata": {},
   "outputs": [],
   "source": [
    "already_obj=['Aadhar_flag', 'PAN_flag', 'VoterID_flag','Driving_flag', 'Passport_flag']"
   ]
  },
  {
   "cell_type": "code",
   "execution_count": 20,
   "metadata": {},
   "outputs": [],
   "source": [
    "Tr_Alr_Obj=Train[already_obj]\n",
    "Te_Alr_Obj=Test[already_obj]"
   ]
  },
  {
   "cell_type": "code",
   "execution_count": 21,
   "metadata": {},
   "outputs": [],
   "source": [
    "Obj_Cols=['Employment.Type', 'PERFORM_CNS.SCORE.DESCRIPTION']"
   ]
  },
  {
   "cell_type": "code",
   "execution_count": 22,
   "metadata": {},
   "outputs": [],
   "source": [
    "Tr_Ob_Attr=Train[Obj_Cols]\n",
    "Te_Ob_Attr=Test[Obj_Cols]"
   ]
  },
  {
   "cell_type": "code",
   "execution_count": 23,
   "metadata": {},
   "outputs": [
    {
     "name": "stderr",
     "output_type": "stream",
     "text": [
      "/home/chinu/anaconda3/lib/python3.6/site-packages/ipykernel_launcher.py:2: SettingWithCopyWarning: \n",
      "A value is trying to be set on a copy of a slice from a DataFrame.\n",
      "Try using .loc[row_indexer,col_indexer] = value instead\n",
      "\n",
      "See the caveats in the documentation: http://pandas.pydata.org/pandas-docs/stable/indexing.html#indexing-view-versus-copy\n",
      "  \n"
     ]
    }
   ],
   "source": [
    "Tr_Ob_Attr['PERFORM_CNS.SCORE.DESCRIPTION']=Tr_Ob_Attr['PERFORM_CNS.SCORE.DESCRIPTION'].map({'No Bureau History Available' : 0,  'I-Medium Risk' :  1, 'L-Very High Risk' :  2,  'A-Very Low Risk':  3,  'Not Scored: Not Enough Info available on the customer' : 4,  'D-Very Low Risk' : 5 ,  'M-Very High Risk' : 6,  'B-Very Low Risk' : 7,  'C-Very Low Risk' : 8,  'E-Low Risk' : 9,  'H-Medium Risk' : 10,   \n",
    " 'F-Low Risk' : 11 ,  'K-High Risk' : 12 ,  'Not Scored: No Activity seen on the customer (Inactive)' : 13,  'Not Scored: Sufficient History Not Available' : 14,  'Not Scored: No Updates available in last 36 months' : 15,   'G-Low Risk' : 16,  'J-High Risk' : 17,  'Not Scored: Only a Guarantor' : 18,  'Not Scored: More than 50 active Accounts found' : 19})"
   ]
  },
  {
   "cell_type": "code",
   "execution_count": 24,
   "metadata": {
    "scrolled": true
   },
   "outputs": [
    {
     "name": "stderr",
     "output_type": "stream",
     "text": [
      "/home/chinu/anaconda3/lib/python3.6/site-packages/ipykernel_launcher.py:2: SettingWithCopyWarning: \n",
      "A value is trying to be set on a copy of a slice from a DataFrame.\n",
      "Try using .loc[row_indexer,col_indexer] = value instead\n",
      "\n",
      "See the caveats in the documentation: http://pandas.pydata.org/pandas-docs/stable/indexing.html#indexing-view-versus-copy\n",
      "  \n"
     ]
    }
   ],
   "source": [
    "Te_Ob_Attr['PERFORM_CNS.SCORE.DESCRIPTION']=Te_Ob_Attr['PERFORM_CNS.SCORE.DESCRIPTION'].map({'No Bureau History Available' : 0,  'I-Medium Risk' :  1, 'L-Very High Risk' :  2,  'A-Very Low Risk':  3,  'Not Scored: Not Enough Info available on the customer' : 4,  'D-Very Low Risk' : 5 ,  'M-Very High Risk' : 6,  'B-Very Low Risk' : 7,  'C-Very Low Risk' : 8,  'E-Low Risk' : 9,  'H-Medium Risk' : 10,   \n",
    " 'F-Low Risk' : 11 ,  'K-High Risk' : 12 ,  'Not Scored: No Activity seen on the customer (Inactive)' : 13,  'Not Scored: Sufficient History Not Available' : 14,  'Not Scored: No Updates available in last 36 months' : 15,   'G-Low Risk' : 16,  'J-High Risk' : 17,  'Not Scored: Only a Guarantor' : 18,  'Not Scored: More than 50 active Accounts found' : 19})"
   ]
  },
  {
   "cell_type": "code",
   "execution_count": 25,
   "metadata": {},
   "outputs": [
    {
     "name": "stderr",
     "output_type": "stream",
     "text": [
      "/home/chinu/anaconda3/lib/python3.6/site-packages/ipykernel_launcher.py:1: SettingWithCopyWarning: \n",
      "A value is trying to be set on a copy of a slice from a DataFrame.\n",
      "Try using .loc[row_indexer,col_indexer] = value instead\n",
      "\n",
      "See the caveats in the documentation: http://pandas.pydata.org/pandas-docs/stable/indexing.html#indexing-view-versus-copy\n",
      "  \"\"\"Entry point for launching an IPython kernel.\n",
      "/home/chinu/anaconda3/lib/python3.6/site-packages/ipykernel_launcher.py:2: SettingWithCopyWarning: \n",
      "A value is trying to be set on a copy of a slice from a DataFrame.\n",
      "Try using .loc[row_indexer,col_indexer] = value instead\n",
      "\n",
      "See the caveats in the documentation: http://pandas.pydata.org/pandas-docs/stable/indexing.html#indexing-view-versus-copy\n",
      "  \n"
     ]
    }
   ],
   "source": [
    "Tr_Ob_Attr['Employment.Type']=Tr_Ob_Attr['Employment.Type'].map({'Salaried' : 0, 'Self employed' : 1,  'No_Emp' : 2})\n",
    "Te_Ob_Attr['Employment.Type']=Te_Ob_Attr['Employment.Type'].map({'Salaried' : 0, 'Self employed' : 1,  'No_Emp' : 2})"
   ]
  },
  {
   "cell_type": "code",
   "execution_count": 26,
   "metadata": {},
   "outputs": [],
   "source": [
    " import category_encoders as ce "
   ]
  },
  {
   "cell_type": "code",
   "execution_count": 27,
   "metadata": {},
   "outputs": [],
   "source": [
    "for x in Obj_Cols:\n",
    "  ce_bin = ce.BinaryEncoder(cols = [x])\n",
    "  Te_Ob_Attr=ce_bin.fit_transform(Te_Ob_Attr)\n",
    "  Tr_Ob_Attr=ce_bin.fit_transform(Tr_Ob_Attr)"
   ]
  },
  {
   "cell_type": "code",
   "execution_count": 31,
   "metadata": {},
   "outputs": [],
   "source": [
    "Train.drop(already_obj, axis=1, inplace=True)\n",
    "Train.drop(Obj_Cols, axis=1, inplace=True)\n",
    "Train.drop('loan_default', axis=1, inplace=True)\n",
    "Test.drop(already_obj, axis=1, inplace=True)\n",
    "Test.drop(Obj_Cols, axis=1, inplace=True)"
   ]
  },
  {
   "cell_type": "code",
   "execution_count": 32,
   "metadata": {},
   "outputs": [],
   "source": [
    "names=['disbursed_amount', 'asset_cost', 'ltv', 'branch_id', 'supplier_id','manufacturer_id', 'Current_pincode_ID',  'State_ID', 'Employee_ID', 'Perform_CNS_Scr', 'PRI_No_Of_Acct', \n",
    " 'PRI_Act_Acct', 'PRI_Overdue_Acct', 'PRI_Current_Bal',  'PRI_Sanction_Amt', 'PRI_Disbusrsed_Amt', \n",
    " 'SEC_No_Of_Acct',  'SEC_Act_Acct', 'SEC_Overdue_Acct', 'SEC_Current_Bal',  'SEC_Sanction_Amt', 'SEC_Disbursed_Amt', \n",
    " 'PRI_Instal_Amt',  'SEC_Instal_Amt', 'New_Acct_Last_Six_mnth', 'Deliquent_Acct_Last_Six_Mnth', 'AVG_Acct_Age', 'Credit_History_Len', 'No_Of_Inquiry','Age']"
   ]
  },
  {
   "cell_type": "code",
   "execution_count": 33,
   "metadata": {},
   "outputs": [
    {
     "name": "stderr",
     "output_type": "stream",
     "text": [
      "/home/chinu/anaconda3/lib/python3.6/site-packages/sklearn/preprocessing/data.py:645: DataConversionWarning: Data with input dtype int64, float64 were all converted to float64 by StandardScaler.\n",
      "  return self.partial_fit(X, y)\n",
      "/home/chinu/anaconda3/lib/python3.6/site-packages/sklearn/base.py:464: DataConversionWarning: Data with input dtype int64, float64 were all converted to float64 by StandardScaler.\n",
      "  return self.fit(X, **fit_params).transform(X)\n",
      "/home/chinu/anaconda3/lib/python3.6/site-packages/sklearn/preprocessing/data.py:645: DataConversionWarning: Data with input dtype int64, float64 were all converted to float64 by StandardScaler.\n",
      "  return self.partial_fit(X, y)\n",
      "/home/chinu/anaconda3/lib/python3.6/site-packages/sklearn/base.py:464: DataConversionWarning: Data with input dtype int64, float64 were all converted to float64 by StandardScaler.\n",
      "  return self.fit(X, **fit_params).transform(X)\n"
     ]
    }
   ],
   "source": [
    "from sklearn import preprocessing\n",
    "# Create the Scaler object\n",
    "scaler = preprocessing.StandardScaler()\n",
    "# Fit your data on the scaler object\n",
    "\n",
    "#Train Data Standardize\n",
    "scaled_df_tr = scaler.fit_transform(Train)\n",
    "scaled_df_tr = pd.DataFrame(scaled_df_tr, columns=names, index=Train.index)\n",
    "\n",
    "#Test Data Standardize\n",
    "scaled_df_te = scaler.fit_transform(Test)\n",
    "scaled_df_te = pd.DataFrame(scaled_df_te, columns=names, index=Test.index)"
   ]
  },
  {
   "cell_type": "code",
   "execution_count": 34,
   "metadata": {},
   "outputs": [],
   "source": [
    "Final_Train_All=pd.concat([scaled_df_tr, Tr_Alr_Obj,  Tr_Ob_Attr], axis=1)\n",
    "Final_Test_All=pd.concat([scaled_df_te,Te_Alr_Obj, Te_Ob_Attr], axis=1)"
   ]
  },
  {
   "cell_type": "code",
   "execution_count": 35,
   "metadata": {
    "scrolled": true
   },
   "outputs": [
    {
     "data": {
      "text/plain": [
       "disbursed_amount                   float64\n",
       "asset_cost                         float64\n",
       "ltv                                float64\n",
       "branch_id                          float64\n",
       "supplier_id                        float64\n",
       "manufacturer_id                    float64\n",
       "Current_pincode_ID                 float64\n",
       "State_ID                           float64\n",
       "Employee_ID                        float64\n",
       "Perform_CNS_Scr                    float64\n",
       "PRI_No_Of_Acct                     float64\n",
       "PRI_Act_Acct                       float64\n",
       "PRI_Overdue_Acct                   float64\n",
       "PRI_Current_Bal                    float64\n",
       "PRI_Sanction_Amt                   float64\n",
       "PRI_Disbusrsed_Amt                 float64\n",
       "SEC_No_Of_Acct                     float64\n",
       "SEC_Act_Acct                       float64\n",
       "SEC_Overdue_Acct                   float64\n",
       "SEC_Current_Bal                    float64\n",
       "SEC_Sanction_Amt                   float64\n",
       "SEC_Disbursed_Amt                  float64\n",
       "PRI_Instal_Amt                     float64\n",
       "SEC_Instal_Amt                     float64\n",
       "New_Acct_Last_Six_mnth             float64\n",
       "Deliquent_Acct_Last_Six_Mnth       float64\n",
       "AVG_Acct_Age                       float64\n",
       "Credit_History_Len                 float64\n",
       "No_Of_Inquiry                      float64\n",
       "Age                                float64\n",
       "Aadhar_flag                          int64\n",
       "PAN_flag                             int64\n",
       "VoterID_flag                         int64\n",
       "Driving_flag                         int64\n",
       "Passport_flag                        int64\n",
       "PERFORM_CNS.SCORE.DESCRIPTION_0      int64\n",
       "PERFORM_CNS.SCORE.DESCRIPTION_1      int64\n",
       "PERFORM_CNS.SCORE.DESCRIPTION_2      int64\n",
       "PERFORM_CNS.SCORE.DESCRIPTION_3      int64\n",
       "PERFORM_CNS.SCORE.DESCRIPTION_4      int64\n",
       "PERFORM_CNS.SCORE.DESCRIPTION_5      int64\n",
       "Employment.Type_0                    int64\n",
       "Employment.Type_1                    int64\n",
       "Employment.Type_2                    int64\n",
       "dtype: object"
      ]
     },
     "execution_count": 35,
     "metadata": {},
     "output_type": "execute_result"
    }
   ],
   "source": [
    "Final_Train_All.dtypes"
   ]
  },
  {
   "cell_type": "code",
   "execution_count": 36,
   "metadata": {},
   "outputs": [],
   "source": [
    "drop_cols_xgb=['asset_cost','PERFORM_CNS.SCORE.DESCRIPTION_0', 'PERFORM_CNS.SCORE.DESCRIPTION_2', 'Employment.Type_0', 'Driving_flag', 'SEC_Act_Acct','SEC_Disbursed_Amt', 'asset_cost']"
   ]
  },
  {
   "cell_type": "code",
   "execution_count": 37,
   "metadata": {},
   "outputs": [],
   "source": [
    "Final_Train_All.drop(drop_cols_xgb, axis=1, inplace=True)\n",
    "Final_Test_All.drop(drop_cols_xgb, axis=1, inplace=True)"
   ]
  },
  {
   "cell_type": "code",
   "execution_count": 22,
   "metadata": {},
   "outputs": [],
   "source": [
    "y_Label.column='loan_default'"
   ]
  },
  {
   "cell_type": "code",
   "execution_count": 23,
   "metadata": {},
   "outputs": [],
   "source": [
    "y_Label.index=Train.index"
   ]
  },
  {
   "cell_type": "code",
   "execution_count": 24,
   "metadata": {
    "collapsed": true
   },
   "outputs": [
    {
     "data": {
      "text/plain": [
       "0         0\n",
       "1         1\n",
       "2         0\n",
       "3         1\n",
       "4         1\n",
       "5         0\n",
       "6         0\n",
       "7         0\n",
       "8         0\n",
       "9         0\n",
       "10        1\n",
       "11        0\n",
       "12        1\n",
       "13        1\n",
       "14        1\n",
       "15        1\n",
       "16        0\n",
       "17        0\n",
       "18        1\n",
       "19        1\n",
       "20        0\n",
       "21        0\n",
       "22        0\n",
       "23        0\n",
       "24        0\n",
       "25        0\n",
       "26        1\n",
       "27        1\n",
       "28        1\n",
       "29        0\n",
       "         ..\n",
       "233124    0\n",
       "233125    0\n",
       "233126    0\n",
       "233127    0\n",
       "233128    1\n",
       "233129    0\n",
       "233130    0\n",
       "233131    0\n",
       "233132    0\n",
       "233133    0\n",
       "233134    0\n",
       "233135    0\n",
       "233136    0\n",
       "233137    0\n",
       "233138    0\n",
       "233139    0\n",
       "233140    0\n",
       "233141    0\n",
       "233142    0\n",
       "233143    0\n",
       "233144    0\n",
       "233145    0\n",
       "233146    0\n",
       "233147    0\n",
       "233148    0\n",
       "233149    0\n",
       "233150    0\n",
       "233151    0\n",
       "233152    0\n",
       "233153    0\n",
       "Name: loan_default, Length: 233153, dtype: int64"
      ]
     },
     "execution_count": 24,
     "metadata": {},
     "output_type": "execute_result"
    }
   ],
   "source": [
    "y_Label"
   ]
  },
  {
   "cell_type": "code",
   "execution_count": 26,
   "metadata": {},
   "outputs": [
    {
     "name": "stderr",
     "output_type": "stream",
     "text": [
      "/home/chinu/anaconda3/lib/python3.6/site-packages/ipykernel_launcher.py:3: FutureWarning: The signature of `Series.to_csv` was aligned to that of `DataFrame.to_csv`, and argument 'header' will change its default value from False to True: please pass an explicit value to suppress this warning.\n",
      "  This is separate from the ipykernel package so we can avoid doing imports until\n"
     ]
    }
   ],
   "source": [
    "Final_Train_All.to_csv('Hackathon-Master/Keras_Train_Feature.csv', index=False)\n",
    "Final_Test_All.to_csv('Hackathon-Master/Keras_Test.csv', index=False)\n",
    "y_Label.to_csv('Hackathon-Master/Keras_Train_Labels.csv')"
   ]
  }
 ],
 "metadata": {
  "kernelspec": {
   "display_name": "Python 3",
   "language": "python",
   "name": "python3"
  },
  "language_info": {
   "codemirror_mode": {
    "name": "ipython",
    "version": 3
   },
   "file_extension": ".py",
   "mimetype": "text/x-python",
   "name": "python",
   "nbconvert_exporter": "python",
   "pygments_lexer": "ipython3",
   "version": "3.6.7"
  }
 },
 "nbformat": 4,
 "nbformat_minor": 2
}
